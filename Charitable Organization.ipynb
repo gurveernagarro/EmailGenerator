{
 "cells": [
  {
   "cell_type": "code",
   "execution_count": 44,
   "metadata": {},
   "outputs": [],
   "source": [
    "import pandas as pd\n",
    "import numpy as np\n",
    "import matplotlib.pyplot as plt\n",
    "import seaborn as ss\n",
    "%matplotlib inline"
   ]
  },
  {
   "cell_type": "code",
   "execution_count": 45,
   "metadata": {},
   "outputs": [],
   "source": [
    "df = pd.read_csv('Donor Raw Data_ML with Python.csv')"
   ]
  },
  {
   "cell_type": "code",
   "execution_count": 46,
   "metadata": {},
   "outputs": [
    {
     "data": {
      "text/html": [
       "<div>\n",
       "<style scoped>\n",
       "    .dataframe tbody tr th:only-of-type {\n",
       "        vertical-align: middle;\n",
       "    }\n",
       "\n",
       "    .dataframe tbody tr th {\n",
       "        vertical-align: top;\n",
       "    }\n",
       "\n",
       "    .dataframe thead th {\n",
       "        text-align: right;\n",
       "    }\n",
       "</style>\n",
       "<table border=\"1\" class=\"dataframe\">\n",
       "  <thead>\n",
       "    <tr style=\"text-align: right;\">\n",
       "      <th></th>\n",
       "      <th>TARGET_B</th>\n",
       "      <th>TARGET_D</th>\n",
       "      <th>CONTROL_NUMBER</th>\n",
       "      <th>MONTHS_SINCE_ORIGIN</th>\n",
       "      <th>DONOR_AGE</th>\n",
       "      <th>IN_HOUSE</th>\n",
       "      <th>URBANICITY</th>\n",
       "      <th>SES</th>\n",
       "      <th>CLUSTER_CODE</th>\n",
       "      <th>HOME_OWNER</th>\n",
       "      <th>...</th>\n",
       "      <th>LIFETIME_GIFT_RANGE</th>\n",
       "      <th>LIFETIME_MAX_GIFT_AMT</th>\n",
       "      <th>LIFETIME_MIN_GIFT_AMT</th>\n",
       "      <th>LAST_GIFT_AMT</th>\n",
       "      <th>CARD_PROM_12</th>\n",
       "      <th>NUMBER_PROM_12</th>\n",
       "      <th>MONTHS_SINCE_LAST_GIFT</th>\n",
       "      <th>MONTHS_SINCE_FIRST_GIFT</th>\n",
       "      <th>FILE_AVG_GIFT</th>\n",
       "      <th>FILE_CARD_GIFT</th>\n",
       "    </tr>\n",
       "  </thead>\n",
       "  <tbody>\n",
       "    <tr>\n",
       "      <th>0</th>\n",
       "      <td>0</td>\n",
       "      <td>NaN</td>\n",
       "      <td>5</td>\n",
       "      <td>101</td>\n",
       "      <td>87.0</td>\n",
       "      <td>0</td>\n",
       "      <td>?</td>\n",
       "      <td>?</td>\n",
       "      <td>.</td>\n",
       "      <td>H</td>\n",
       "      <td>...</td>\n",
       "      <td>15.0</td>\n",
       "      <td>20.0</td>\n",
       "      <td>5.0</td>\n",
       "      <td>15.0</td>\n",
       "      <td>5</td>\n",
       "      <td>12</td>\n",
       "      <td>26</td>\n",
       "      <td>92</td>\n",
       "      <td>8.49</td>\n",
       "      <td>7</td>\n",
       "    </tr>\n",
       "    <tr>\n",
       "      <th>1</th>\n",
       "      <td>1</td>\n",
       "      <td>10.0</td>\n",
       "      <td>12</td>\n",
       "      <td>137</td>\n",
       "      <td>79.0</td>\n",
       "      <td>0</td>\n",
       "      <td>R</td>\n",
       "      <td>2</td>\n",
       "      <td>45</td>\n",
       "      <td>H</td>\n",
       "      <td>...</td>\n",
       "      <td>20.0</td>\n",
       "      <td>25.0</td>\n",
       "      <td>5.0</td>\n",
       "      <td>17.0</td>\n",
       "      <td>7</td>\n",
       "      <td>21</td>\n",
       "      <td>7</td>\n",
       "      <td>122</td>\n",
       "      <td>14.72</td>\n",
       "      <td>12</td>\n",
       "    </tr>\n",
       "    <tr>\n",
       "      <th>2</th>\n",
       "      <td>0</td>\n",
       "      <td>NaN</td>\n",
       "      <td>37</td>\n",
       "      <td>113</td>\n",
       "      <td>75.0</td>\n",
       "      <td>0</td>\n",
       "      <td>S</td>\n",
       "      <td>1</td>\n",
       "      <td>11</td>\n",
       "      <td>H</td>\n",
       "      <td>...</td>\n",
       "      <td>23.0</td>\n",
       "      <td>28.0</td>\n",
       "      <td>5.0</td>\n",
       "      <td>19.0</td>\n",
       "      <td>11</td>\n",
       "      <td>32</td>\n",
       "      <td>6</td>\n",
       "      <td>105</td>\n",
       "      <td>16.75</td>\n",
       "      <td>16</td>\n",
       "    </tr>\n",
       "    <tr>\n",
       "      <th>3</th>\n",
       "      <td>0</td>\n",
       "      <td>NaN</td>\n",
       "      <td>38</td>\n",
       "      <td>92</td>\n",
       "      <td>NaN</td>\n",
       "      <td>0</td>\n",
       "      <td>U</td>\n",
       "      <td>2</td>\n",
       "      <td>04</td>\n",
       "      <td>H</td>\n",
       "      <td>...</td>\n",
       "      <td>14.0</td>\n",
       "      <td>17.0</td>\n",
       "      <td>3.0</td>\n",
       "      <td>15.0</td>\n",
       "      <td>11</td>\n",
       "      <td>33</td>\n",
       "      <td>6</td>\n",
       "      <td>92</td>\n",
       "      <td>11.76</td>\n",
       "      <td>12</td>\n",
       "    </tr>\n",
       "    <tr>\n",
       "      <th>4</th>\n",
       "      <td>0</td>\n",
       "      <td>NaN</td>\n",
       "      <td>41</td>\n",
       "      <td>101</td>\n",
       "      <td>74.0</td>\n",
       "      <td>0</td>\n",
       "      <td>R</td>\n",
       "      <td>2</td>\n",
       "      <td>49</td>\n",
       "      <td>U</td>\n",
       "      <td>...</td>\n",
       "      <td>20.0</td>\n",
       "      <td>25.0</td>\n",
       "      <td>5.0</td>\n",
       "      <td>25.0</td>\n",
       "      <td>6</td>\n",
       "      <td>19</td>\n",
       "      <td>18</td>\n",
       "      <td>92</td>\n",
       "      <td>8.83</td>\n",
       "      <td>3</td>\n",
       "    </tr>\n",
       "  </tbody>\n",
       "</table>\n",
       "<p>5 rows × 50 columns</p>\n",
       "</div>"
      ],
      "text/plain": [
       "   TARGET_B  TARGET_D  CONTROL_NUMBER  MONTHS_SINCE_ORIGIN  DONOR_AGE   \n",
       "0         0       NaN               5                  101       87.0  \\\n",
       "1         1      10.0              12                  137       79.0   \n",
       "2         0       NaN              37                  113       75.0   \n",
       "3         0       NaN              38                   92        NaN   \n",
       "4         0       NaN              41                  101       74.0   \n",
       "\n",
       "   IN_HOUSE URBANICITY SES CLUSTER_CODE HOME_OWNER  ... LIFETIME_GIFT_RANGE   \n",
       "0         0          ?   ?            .          H  ...                15.0  \\\n",
       "1         0          R   2           45          H  ...                20.0   \n",
       "2         0          S   1           11          H  ...                23.0   \n",
       "3         0          U   2           04          H  ...                14.0   \n",
       "4         0          R   2           49          U  ...                20.0   \n",
       "\n",
       "   LIFETIME_MAX_GIFT_AMT  LIFETIME_MIN_GIFT_AMT LAST_GIFT_AMT  CARD_PROM_12   \n",
       "0                   20.0                    5.0          15.0             5  \\\n",
       "1                   25.0                    5.0          17.0             7   \n",
       "2                   28.0                    5.0          19.0            11   \n",
       "3                   17.0                    3.0          15.0            11   \n",
       "4                   25.0                    5.0          25.0             6   \n",
       "\n",
       "   NUMBER_PROM_12  MONTHS_SINCE_LAST_GIFT  MONTHS_SINCE_FIRST_GIFT   \n",
       "0              12                      26                       92  \\\n",
       "1              21                       7                      122   \n",
       "2              32                       6                      105   \n",
       "3              33                       6                       92   \n",
       "4              19                      18                       92   \n",
       "\n",
       "   FILE_AVG_GIFT  FILE_CARD_GIFT  \n",
       "0           8.49               7  \n",
       "1          14.72              12  \n",
       "2          16.75              16  \n",
       "3          11.76              12  \n",
       "4           8.83               3  \n",
       "\n",
       "[5 rows x 50 columns]"
      ]
     },
     "execution_count": 46,
     "metadata": {},
     "output_type": "execute_result"
    }
   ],
   "source": [
    "df.head()"
   ]
  },
  {
   "cell_type": "code",
   "execution_count": 47,
   "metadata": {},
   "outputs": [
    {
     "name": "stdout",
     "output_type": "stream",
     "text": [
      "<class 'pandas.core.frame.DataFrame'>\n",
      "RangeIndex: 19372 entries, 0 to 19371\n",
      "Data columns (total 50 columns):\n",
      " #   Column                       Non-Null Count  Dtype  \n",
      "---  ------                       --------------  -----  \n",
      " 0   TARGET_B                     19372 non-null  int64  \n",
      " 1   TARGET_D                     4843 non-null   float64\n",
      " 2   CONTROL_NUMBER               19372 non-null  int64  \n",
      " 3   MONTHS_SINCE_ORIGIN          19372 non-null  int64  \n",
      " 4   DONOR_AGE                    14577 non-null  float64\n",
      " 5   IN_HOUSE                     19372 non-null  int64  \n",
      " 6   URBANICITY                   19372 non-null  object \n",
      " 7   SES                          19372 non-null  object \n",
      " 8   CLUSTER_CODE                 19372 non-null  object \n",
      " 9   HOME_OWNER                   19372 non-null  object \n",
      " 10  DONOR_GENDER                 19372 non-null  object \n",
      " 11  INCOME_GROUP                 14980 non-null  float64\n",
      " 12  PUBLISHED_PHONE              19372 non-null  int64  \n",
      " 13  OVERLAY_SOURCE               19372 non-null  object \n",
      " 14  MOR_HIT_RATE                 19372 non-null  int64  \n",
      " 15  WEALTH_RATING                10562 non-null  float64\n",
      " 16  MEDIAN_HOME_VALUE            19372 non-null  int64  \n",
      " 17  MEDIAN_HOUSEHOLD_INCOME      19372 non-null  int64  \n",
      " 18  PCT_OWNER_OCCUPIED           19372 non-null  int64  \n",
      " 19  PER_CAPITA_INCOME            19372 non-null  int64  \n",
      " 20  PCT_ATTRIBUTE1               19372 non-null  int64  \n",
      " 21  PCT_ATTRIBUTE2               19372 non-null  int64  \n",
      " 22  PCT_ATTRIBUTE3               19372 non-null  int64  \n",
      " 23  PCT_ATTRIBUTE4               19372 non-null  int64  \n",
      " 24  PEP_STAR                     19372 non-null  int64  \n",
      " 25  RECENT_STAR_STATUS           19372 non-null  int64  \n",
      " 26  RECENCY_STATUS_96NK          19372 non-null  object \n",
      " 27  FREQUENCY_STATUS_97NK        19372 non-null  int64  \n",
      " 28  RECENT_RESPONSE_PROP         19372 non-null  float64\n",
      " 29  RECENT_AVG_GIFT_AMT          19372 non-null  float64\n",
      " 30  RECENT_CARD_RESPONSE_PROP    19372 non-null  float64\n",
      " 31  RECENT_AVG_CARD_GIFT_AMT     19372 non-null  float64\n",
      " 32  RECENT_RESPONSE_COUNT        19372 non-null  int64  \n",
      " 33  RECENT_CARD_RESPONSE_COUNT   19372 non-null  int64  \n",
      " 34  MONTHS_SINCE_LAST_PROM_RESP  19126 non-null  float64\n",
      " 35  LIFETIME_CARD_PROM           19372 non-null  int64  \n",
      " 36  LIFETIME_PROM                19372 non-null  int64  \n",
      " 37  LIFETIME_GIFT_AMOUNT         19372 non-null  float64\n",
      " 38  LIFETIME_GIFT_COUNT          19372 non-null  int64  \n",
      " 39  LIFETIME_AVG_GIFT_AMT        19372 non-null  float64\n",
      " 40  LIFETIME_GIFT_RANGE          19372 non-null  float64\n",
      " 41  LIFETIME_MAX_GIFT_AMT        19372 non-null  float64\n",
      " 42  LIFETIME_MIN_GIFT_AMT        19372 non-null  float64\n",
      " 43  LAST_GIFT_AMT                19372 non-null  float64\n",
      " 44  CARD_PROM_12                 19372 non-null  int64  \n",
      " 45  NUMBER_PROM_12               19372 non-null  int64  \n",
      " 46  MONTHS_SINCE_LAST_GIFT       19372 non-null  int64  \n",
      " 47  MONTHS_SINCE_FIRST_GIFT      19372 non-null  int64  \n",
      " 48  FILE_AVG_GIFT                19372 non-null  float64\n",
      " 49  FILE_CARD_GIFT               19372 non-null  int64  \n",
      "dtypes: float64(16), int64(27), object(7)\n",
      "memory usage: 7.4+ MB\n"
     ]
    }
   ],
   "source": [
    "df.info()"
   ]
  },
  {
   "cell_type": "code",
   "execution_count": 48,
   "metadata": {},
   "outputs": [
    {
     "data": {
      "text/html": [
       "<div>\n",
       "<style scoped>\n",
       "    .dataframe tbody tr th:only-of-type {\n",
       "        vertical-align: middle;\n",
       "    }\n",
       "\n",
       "    .dataframe tbody tr th {\n",
       "        vertical-align: top;\n",
       "    }\n",
       "\n",
       "    .dataframe thead th {\n",
       "        text-align: right;\n",
       "    }\n",
       "</style>\n",
       "<table border=\"1\" class=\"dataframe\">\n",
       "  <thead>\n",
       "    <tr style=\"text-align: right;\">\n",
       "      <th></th>\n",
       "      <th>TARGET_B</th>\n",
       "      <th>TARGET_D</th>\n",
       "      <th>CONTROL_NUMBER</th>\n",
       "      <th>MONTHS_SINCE_ORIGIN</th>\n",
       "      <th>DONOR_AGE</th>\n",
       "      <th>IN_HOUSE</th>\n",
       "      <th>INCOME_GROUP</th>\n",
       "      <th>PUBLISHED_PHONE</th>\n",
       "      <th>MOR_HIT_RATE</th>\n",
       "      <th>WEALTH_RATING</th>\n",
       "      <th>...</th>\n",
       "      <th>LIFETIME_GIFT_RANGE</th>\n",
       "      <th>LIFETIME_MAX_GIFT_AMT</th>\n",
       "      <th>LIFETIME_MIN_GIFT_AMT</th>\n",
       "      <th>LAST_GIFT_AMT</th>\n",
       "      <th>CARD_PROM_12</th>\n",
       "      <th>NUMBER_PROM_12</th>\n",
       "      <th>MONTHS_SINCE_LAST_GIFT</th>\n",
       "      <th>MONTHS_SINCE_FIRST_GIFT</th>\n",
       "      <th>FILE_AVG_GIFT</th>\n",
       "      <th>FILE_CARD_GIFT</th>\n",
       "    </tr>\n",
       "  </thead>\n",
       "  <tbody>\n",
       "    <tr>\n",
       "      <th>count</th>\n",
       "      <td>19372.000000</td>\n",
       "      <td>4843.000000</td>\n",
       "      <td>19372.000000</td>\n",
       "      <td>19372.000000</td>\n",
       "      <td>14577.000000</td>\n",
       "      <td>19372.000000</td>\n",
       "      <td>14980.000000</td>\n",
       "      <td>19372.000000</td>\n",
       "      <td>19372.000000</td>\n",
       "      <td>10562.000000</td>\n",
       "      <td>...</td>\n",
       "      <td>19372.000000</td>\n",
       "      <td>19372.000000</td>\n",
       "      <td>19372.000000</td>\n",
       "      <td>19372.000000</td>\n",
       "      <td>19372.000000</td>\n",
       "      <td>19372.000000</td>\n",
       "      <td>19372.000000</td>\n",
       "      <td>19372.000000</td>\n",
       "      <td>19372.000000</td>\n",
       "      <td>19372.000000</td>\n",
       "    </tr>\n",
       "    <tr>\n",
       "      <th>mean</th>\n",
       "      <td>0.250000</td>\n",
       "      <td>15.624344</td>\n",
       "      <td>96546.225377</td>\n",
       "      <td>73.409973</td>\n",
       "      <td>58.919051</td>\n",
       "      <td>0.073198</td>\n",
       "      <td>3.907543</td>\n",
       "      <td>0.497729</td>\n",
       "      <td>3.361656</td>\n",
       "      <td>5.005397</td>\n",
       "      <td>...</td>\n",
       "      <td>11.587876</td>\n",
       "      <td>19.208808</td>\n",
       "      <td>7.620932</td>\n",
       "      <td>16.584199</td>\n",
       "      <td>5.367128</td>\n",
       "      <td>12.901869</td>\n",
       "      <td>18.191152</td>\n",
       "      <td>69.482088</td>\n",
       "      <td>12.858338</td>\n",
       "      <td>5.273591</td>\n",
       "    </tr>\n",
       "    <tr>\n",
       "      <th>std</th>\n",
       "      <td>0.433024</td>\n",
       "      <td>12.445137</td>\n",
       "      <td>55830.643871</td>\n",
       "      <td>41.255574</td>\n",
       "      <td>16.669382</td>\n",
       "      <td>0.260469</td>\n",
       "      <td>1.864796</td>\n",
       "      <td>0.500008</td>\n",
       "      <td>9.503481</td>\n",
       "      <td>2.815386</td>\n",
       "      <td>...</td>\n",
       "      <td>15.116893</td>\n",
       "      <td>16.101128</td>\n",
       "      <td>7.959786</td>\n",
       "      <td>11.977558</td>\n",
       "      <td>1.264205</td>\n",
       "      <td>4.642072</td>\n",
       "      <td>4.033065</td>\n",
       "      <td>37.568169</td>\n",
       "      <td>8.787758</td>\n",
       "      <td>4.607063</td>\n",
       "    </tr>\n",
       "    <tr>\n",
       "      <th>min</th>\n",
       "      <td>0.000000</td>\n",
       "      <td>1.000000</td>\n",
       "      <td>5.000000</td>\n",
       "      <td>5.000000</td>\n",
       "      <td>0.000000</td>\n",
       "      <td>0.000000</td>\n",
       "      <td>1.000000</td>\n",
       "      <td>0.000000</td>\n",
       "      <td>0.000000</td>\n",
       "      <td>0.000000</td>\n",
       "      <td>...</td>\n",
       "      <td>0.000000</td>\n",
       "      <td>5.000000</td>\n",
       "      <td>0.000000</td>\n",
       "      <td>0.000000</td>\n",
       "      <td>0.000000</td>\n",
       "      <td>2.000000</td>\n",
       "      <td>4.000000</td>\n",
       "      <td>15.000000</td>\n",
       "      <td>1.360000</td>\n",
       "      <td>0.000000</td>\n",
       "    </tr>\n",
       "    <tr>\n",
       "      <th>25%</th>\n",
       "      <td>0.000000</td>\n",
       "      <td>10.000000</td>\n",
       "      <td>48289.000000</td>\n",
       "      <td>29.000000</td>\n",
       "      <td>47.000000</td>\n",
       "      <td>0.000000</td>\n",
       "      <td>2.000000</td>\n",
       "      <td>0.000000</td>\n",
       "      <td>0.000000</td>\n",
       "      <td>3.000000</td>\n",
       "      <td>...</td>\n",
       "      <td>5.000000</td>\n",
       "      <td>12.000000</td>\n",
       "      <td>3.000000</td>\n",
       "      <td>10.000000</td>\n",
       "      <td>5.000000</td>\n",
       "      <td>11.000000</td>\n",
       "      <td>16.000000</td>\n",
       "      <td>33.000000</td>\n",
       "      <td>8.000000</td>\n",
       "      <td>2.000000</td>\n",
       "    </tr>\n",
       "    <tr>\n",
       "      <th>50%</th>\n",
       "      <td>0.000000</td>\n",
       "      <td>13.000000</td>\n",
       "      <td>96937.000000</td>\n",
       "      <td>65.000000</td>\n",
       "      <td>60.000000</td>\n",
       "      <td>0.000000</td>\n",
       "      <td>4.000000</td>\n",
       "      <td>0.000000</td>\n",
       "      <td>0.000000</td>\n",
       "      <td>5.000000</td>\n",
       "      <td>...</td>\n",
       "      <td>10.000000</td>\n",
       "      <td>16.000000</td>\n",
       "      <td>5.000000</td>\n",
       "      <td>15.000000</td>\n",
       "      <td>6.000000</td>\n",
       "      <td>12.000000</td>\n",
       "      <td>18.000000</td>\n",
       "      <td>65.000000</td>\n",
       "      <td>11.200000</td>\n",
       "      <td>4.000000</td>\n",
       "    </tr>\n",
       "    <tr>\n",
       "      <th>75%</th>\n",
       "      <td>0.250000</td>\n",
       "      <td>20.000000</td>\n",
       "      <td>145429.500000</td>\n",
       "      <td>113.000000</td>\n",
       "      <td>73.000000</td>\n",
       "      <td>0.000000</td>\n",
       "      <td>5.000000</td>\n",
       "      <td>1.000000</td>\n",
       "      <td>3.000000</td>\n",
       "      <td>7.000000</td>\n",
       "      <td>...</td>\n",
       "      <td>15.000000</td>\n",
       "      <td>21.000000</td>\n",
       "      <td>10.000000</td>\n",
       "      <td>20.000000</td>\n",
       "      <td>6.000000</td>\n",
       "      <td>13.000000</td>\n",
       "      <td>20.000000</td>\n",
       "      <td>105.000000</td>\n",
       "      <td>15.000000</td>\n",
       "      <td>8.000000</td>\n",
       "    </tr>\n",
       "    <tr>\n",
       "      <th>max</th>\n",
       "      <td>1.000000</td>\n",
       "      <td>200.000000</td>\n",
       "      <td>191779.000000</td>\n",
       "      <td>137.000000</td>\n",
       "      <td>87.000000</td>\n",
       "      <td>1.000000</td>\n",
       "      <td>7.000000</td>\n",
       "      <td>1.000000</td>\n",
       "      <td>241.000000</td>\n",
       "      <td>9.000000</td>\n",
       "      <td>...</td>\n",
       "      <td>997.000000</td>\n",
       "      <td>1000.000000</td>\n",
       "      <td>450.000000</td>\n",
       "      <td>450.000000</td>\n",
       "      <td>17.000000</td>\n",
       "      <td>64.000000</td>\n",
       "      <td>27.000000</td>\n",
       "      <td>260.000000</td>\n",
       "      <td>450.000000</td>\n",
       "      <td>41.000000</td>\n",
       "    </tr>\n",
       "  </tbody>\n",
       "</table>\n",
       "<p>8 rows × 43 columns</p>\n",
       "</div>"
      ],
      "text/plain": [
       "           TARGET_B     TARGET_D  CONTROL_NUMBER  MONTHS_SINCE_ORIGIN   \n",
       "count  19372.000000  4843.000000    19372.000000         19372.000000  \\\n",
       "mean       0.250000    15.624344    96546.225377            73.409973   \n",
       "std        0.433024    12.445137    55830.643871            41.255574   \n",
       "min        0.000000     1.000000        5.000000             5.000000   \n",
       "25%        0.000000    10.000000    48289.000000            29.000000   \n",
       "50%        0.000000    13.000000    96937.000000            65.000000   \n",
       "75%        0.250000    20.000000   145429.500000           113.000000   \n",
       "max        1.000000   200.000000   191779.000000           137.000000   \n",
       "\n",
       "          DONOR_AGE      IN_HOUSE  INCOME_GROUP  PUBLISHED_PHONE   \n",
       "count  14577.000000  19372.000000  14980.000000     19372.000000  \\\n",
       "mean      58.919051      0.073198      3.907543         0.497729   \n",
       "std       16.669382      0.260469      1.864796         0.500008   \n",
       "min        0.000000      0.000000      1.000000         0.000000   \n",
       "25%       47.000000      0.000000      2.000000         0.000000   \n",
       "50%       60.000000      0.000000      4.000000         0.000000   \n",
       "75%       73.000000      0.000000      5.000000         1.000000   \n",
       "max       87.000000      1.000000      7.000000         1.000000   \n",
       "\n",
       "       MOR_HIT_RATE  WEALTH_RATING  ...  LIFETIME_GIFT_RANGE   \n",
       "count  19372.000000   10562.000000  ...         19372.000000  \\\n",
       "mean       3.361656       5.005397  ...            11.587876   \n",
       "std        9.503481       2.815386  ...            15.116893   \n",
       "min        0.000000       0.000000  ...             0.000000   \n",
       "25%        0.000000       3.000000  ...             5.000000   \n",
       "50%        0.000000       5.000000  ...            10.000000   \n",
       "75%        3.000000       7.000000  ...            15.000000   \n",
       "max      241.000000       9.000000  ...           997.000000   \n",
       "\n",
       "       LIFETIME_MAX_GIFT_AMT  LIFETIME_MIN_GIFT_AMT  LAST_GIFT_AMT   \n",
       "count           19372.000000           19372.000000   19372.000000  \\\n",
       "mean               19.208808               7.620932      16.584199   \n",
       "std                16.101128               7.959786      11.977558   \n",
       "min                 5.000000               0.000000       0.000000   \n",
       "25%                12.000000               3.000000      10.000000   \n",
       "50%                16.000000               5.000000      15.000000   \n",
       "75%                21.000000              10.000000      20.000000   \n",
       "max              1000.000000             450.000000     450.000000   \n",
       "\n",
       "       CARD_PROM_12  NUMBER_PROM_12  MONTHS_SINCE_LAST_GIFT   \n",
       "count  19372.000000    19372.000000            19372.000000  \\\n",
       "mean       5.367128       12.901869               18.191152   \n",
       "std        1.264205        4.642072                4.033065   \n",
       "min        0.000000        2.000000                4.000000   \n",
       "25%        5.000000       11.000000               16.000000   \n",
       "50%        6.000000       12.000000               18.000000   \n",
       "75%        6.000000       13.000000               20.000000   \n",
       "max       17.000000       64.000000               27.000000   \n",
       "\n",
       "       MONTHS_SINCE_FIRST_GIFT  FILE_AVG_GIFT  FILE_CARD_GIFT  \n",
       "count             19372.000000   19372.000000    19372.000000  \n",
       "mean                 69.482088      12.858338        5.273591  \n",
       "std                  37.568169       8.787758        4.607063  \n",
       "min                  15.000000       1.360000        0.000000  \n",
       "25%                  33.000000       8.000000        2.000000  \n",
       "50%                  65.000000      11.200000        4.000000  \n",
       "75%                 105.000000      15.000000        8.000000  \n",
       "max                 260.000000     450.000000       41.000000  \n",
       "\n",
       "[8 rows x 43 columns]"
      ]
     },
     "execution_count": 48,
     "metadata": {},
     "output_type": "execute_result"
    }
   ],
   "source": [
    "df.describe()"
   ]
  },
  {
   "cell_type": "code",
   "execution_count": 49,
   "metadata": {},
   "outputs": [
    {
     "data": {
      "text/plain": [
       "Index(['TARGET_B', 'TARGET_D', 'CONTROL_NUMBER', 'MONTHS_SINCE_ORIGIN',\n",
       "       'DONOR_AGE', 'IN_HOUSE', 'URBANICITY', 'SES', 'CLUSTER_CODE',\n",
       "       'HOME_OWNER', 'DONOR_GENDER', 'INCOME_GROUP', 'PUBLISHED_PHONE',\n",
       "       'OVERLAY_SOURCE', 'MOR_HIT_RATE', 'WEALTH_RATING', 'MEDIAN_HOME_VALUE',\n",
       "       'MEDIAN_HOUSEHOLD_INCOME', 'PCT_OWNER_OCCUPIED', 'PER_CAPITA_INCOME',\n",
       "       'PCT_ATTRIBUTE1', 'PCT_ATTRIBUTE2', 'PCT_ATTRIBUTE3', 'PCT_ATTRIBUTE4',\n",
       "       'PEP_STAR', 'RECENT_STAR_STATUS', 'RECENCY_STATUS_96NK',\n",
       "       'FREQUENCY_STATUS_97NK', 'RECENT_RESPONSE_PROP', 'RECENT_AVG_GIFT_AMT',\n",
       "       'RECENT_CARD_RESPONSE_PROP', 'RECENT_AVG_CARD_GIFT_AMT',\n",
       "       'RECENT_RESPONSE_COUNT', 'RECENT_CARD_RESPONSE_COUNT',\n",
       "       'MONTHS_SINCE_LAST_PROM_RESP', 'LIFETIME_CARD_PROM', 'LIFETIME_PROM',\n",
       "       'LIFETIME_GIFT_AMOUNT', 'LIFETIME_GIFT_COUNT', 'LIFETIME_AVG_GIFT_AMT',\n",
       "       'LIFETIME_GIFT_RANGE', 'LIFETIME_MAX_GIFT_AMT', 'LIFETIME_MIN_GIFT_AMT',\n",
       "       'LAST_GIFT_AMT', 'CARD_PROM_12', 'NUMBER_PROM_12',\n",
       "       'MONTHS_SINCE_LAST_GIFT', 'MONTHS_SINCE_FIRST_GIFT', 'FILE_AVG_GIFT',\n",
       "       'FILE_CARD_GIFT'],\n",
       "      dtype='object')"
      ]
     },
     "execution_count": 49,
     "metadata": {},
     "output_type": "execute_result"
    }
   ],
   "source": [
    "df.columns"
   ]
  },
  {
   "cell_type": "code",
   "execution_count": 50,
   "metadata": {},
   "outputs": [
    {
     "data": {
      "text/plain": [
       "<Axes: >"
      ]
     },
     "execution_count": 50,
     "metadata": {},
     "output_type": "execute_result"
    },
    {
     "data": {
      "image/png": "[encoded data removed]",
      "text/plain": [
       "<Figure size 1800x600 with 1 Axes>"
      ]
     },
     "metadata": {},
     "output_type": "display_data"
    }
   ],
   "source": [
    "plt.figure(figsize=(18,6))\n",
    "ss.heatmap(df.isnull(),yticklabels=False,cbar=False,cmap='viridis')"
   ]
  },
  {
   "cell_type": "code",
   "execution_count": null,
   "metadata": {},
   "outputs": [],
   "source": [
    "\n"
   ]
  },
  {
   "cell_type": "code",
   "execution_count": 51,
   "metadata": {},
   "outputs": [],
   "source": [
    "\n",
    "def impute_age(cols):\n",
    "    Age = cols[0]\n",
    "    \n",
    "    if pd.isnull(Age):\n",
    "        return df['DONOR_AGE'].median()\n",
    "    else:\n",
    "        return Age"
   ]
  },
  {
   "cell_type": "code",
   "execution_count": 52,
   "metadata": {},
   "outputs": [],
   "source": [
    "#Now to apply the function to complete themissing age fields"
   ]
  },
  {
   "cell_type": "code",
   "execution_count": 53,
   "metadata": {},
   "outputs": [],
   "source": [
    "df['DONOR_AGE'] = df[['DONOR_AGE']].apply(impute_age,axis=1)"
   ]
  },
  {
   "cell_type": "code",
   "execution_count": 54,
   "metadata": {},
   "outputs": [],
   "source": [
    "#To complete the income group levels, I will be using the median income_group, \n",
    "#using the same method as used to complete missing age fields\n"
   ]
  },
  {
   "cell_type": "code",
   "execution_count": 55,
   "metadata": {},
   "outputs": [],
   "source": [
    "def impute_ig(cols):\n",
    "    ig = cols[0]\n",
    "    \n",
    "    if pd.isnull(ig):\n",
    "        return df['INCOME_GROUP'].median()\n",
    "    else:\n",
    "        return ig"
   ]
  },
  {
   "cell_type": "code",
   "execution_count": 56,
   "metadata": {},
   "outputs": [],
   "source": [
    "df['INCOME_GROUP'] = df[['INCOME_GROUP']].apply(impute_ig,axis=1)"
   ]
  },
  {
   "cell_type": "code",
   "execution_count": 57,
   "metadata": {},
   "outputs": [],
   "source": [
    "#To fill in missing values in wealth rating,exploring the wealth rating of different donors based on their income group\n",
    "# using seaborns's boxplot"
   ]
  },
  {
   "cell_type": "code",
   "execution_count": 58,
   "metadata": {},
   "outputs": [
    {
     "data": {
      "text/plain": [
       "<Axes: xlabel='INCOME_GROUP', ylabel='WEALTH_RATING'>"
      ]
     },
     "execution_count": 58,
     "metadata": {},
     "output_type": "execute_result"
    },
    {
     "data": {
      "image/png": "[encoded data removed]",
      "text/plain": [
       "<Figure size 1200x700 with 1 Axes>"
      ]
     },
     "metadata": {},
     "output_type": "display_data"
    }
   ],
   "source": [
    "plt.figure(figsize=(12, 7))\n",
    "ss.boxplot(y='WEALTH_RATING',x='INCOME_GROUP',data=df,palette='winter')"
   ]
  },
  {
   "cell_type": "code",
   "execution_count": 59,
   "metadata": {},
   "outputs": [],
   "source": [
    "def impute_wealthr(cols):\n",
    "    wealthr = cols[0]\n",
    "    incomeg = cols[1]\n",
    "    \n",
    "    if pd.isnull(wealthr):\n",
    "\n",
    "        if incomeg == 1:\n",
    "            return 3\n",
    "\n",
    "        elif incomeg == 2:\n",
    "            return 4\n",
    "        \n",
    "        elif incomeg == 3:\n",
    "            return 5\n",
    "        \n",
    "        elif incomeg == 4:\n",
    "            return 5\n",
    "        \n",
    "        elif incomeg == 5:\n",
    "            return 6\n",
    "        \n",
    "        elif incomeg == 6:\n",
    "            return 7\n",
    "        \n",
    "        else:\n",
    "            return 8\n",
    "\n",
    "    else:\n",
    "        return wealthr"
   ]
  },
  {
   "cell_type": "code",
   "execution_count": 60,
   "metadata": {},
   "outputs": [],
   "source": [
    "df['WEALTH_RATING'] = df[['WEALTH_RATING','INCOME_GROUP']].apply(impute_wealthr,axis=1)"
   ]
  },
  {
   "cell_type": "code",
   "execution_count": 61,
   "metadata": {},
   "outputs": [],
   "source": [
    "#Missing fields in MONTHS_SINCE_LAST_PROM_RESP\n",
    "#As these prospects have not responded to a promotion, and as there are 246 such missing fields, i am deleting them, \n",
    "#as the effect of this on the training model will be negligible"
   ]
  },
  {
   "cell_type": "code",
   "execution_count": 62,
   "metadata": {},
   "outputs": [],
   "source": [
    "df['MONTHS_SINCE_LAST_PROM_RESP'] = df['MONTHS_SINCE_LAST_PROM_RESP'].replace('', np.nan)\n",
    "df = df.dropna(axis=0, subset=['MONTHS_SINCE_LAST_PROM_RESP'])"
   ]
  },
  {
   "cell_type": "code",
   "execution_count": 63,
   "metadata": {},
   "outputs": [],
   "source": [
    "df['CLUSTER_CODE'].replace(' .',0,inplace = True)"
   ]
  },
  {
   "attachments": {},
   "cell_type": "markdown",
   "metadata": {},
   "source": [
    "Categorical Features\n",
    "\n",
    "Notice that the URBANICITY, HOME_OWNER, DONOR_GENDER, OVERLAY_SOURCE, RECENCY_STATUS column are categorical\n",
    "\n",
    "That means we need to transform them using dummy variables so sklearn will be able to understand them. Let's do this in one clean step using pd.get_dummies."
   ]
  },
  {
   "cell_type": "code",
   "execution_count": 64,
   "metadata": {},
   "outputs": [
    {
     "data": {
      "text/plain": [
       "Index(['TARGET_B', 'TARGET_D', 'CONTROL_NUMBER', 'MONTHS_SINCE_ORIGIN',\n",
       "       'DONOR_AGE', 'IN_HOUSE', 'URBANICITY', 'SES', 'CLUSTER_CODE',\n",
       "       'HOME_OWNER', 'DONOR_GENDER', 'INCOME_GROUP', 'PUBLISHED_PHONE',\n",
       "       'OVERLAY_SOURCE', 'MOR_HIT_RATE', 'WEALTH_RATING', 'MEDIAN_HOME_VALUE',\n",
       "       'MEDIAN_HOUSEHOLD_INCOME', 'PCT_OWNER_OCCUPIED', 'PER_CAPITA_INCOME',\n",
       "       'PCT_ATTRIBUTE1', 'PCT_ATTRIBUTE2', 'PCT_ATTRIBUTE3', 'PCT_ATTRIBUTE4',\n",
       "       'PEP_STAR', 'RECENT_STAR_STATUS', 'RECENCY_STATUS_96NK',\n",
       "       'FREQUENCY_STATUS_97NK', 'RECENT_RESPONSE_PROP', 'RECENT_AVG_GIFT_AMT',\n",
       "       'RECENT_CARD_RESPONSE_PROP', 'RECENT_AVG_CARD_GIFT_AMT',\n",
       "       'RECENT_RESPONSE_COUNT', 'RECENT_CARD_RESPONSE_COUNT',\n",
       "       'MONTHS_SINCE_LAST_PROM_RESP', 'LIFETIME_CARD_PROM', 'LIFETIME_PROM',\n",
       "       'LIFETIME_GIFT_AMOUNT', 'LIFETIME_GIFT_COUNT', 'LIFETIME_AVG_GIFT_AMT',\n",
       "       'LIFETIME_GIFT_RANGE', 'LIFETIME_MAX_GIFT_AMT', 'LIFETIME_MIN_GIFT_AMT',\n",
       "       'LAST_GIFT_AMT', 'CARD_PROM_12', 'NUMBER_PROM_12',\n",
       "       'MONTHS_SINCE_LAST_GIFT', 'MONTHS_SINCE_FIRST_GIFT', 'FILE_AVG_GIFT',\n",
       "       'FILE_CARD_GIFT'],\n",
       "      dtype='object')"
      ]
     },
     "execution_count": 64,
     "metadata": {},
     "output_type": "execute_result"
    }
   ],
   "source": [
    "df.columns"
   ]
  },
  {
   "cell_type": "code",
   "execution_count": 65,
   "metadata": {},
   "outputs": [],
   "source": [
    "#Now to use pd.get_dummies to transform categorical columns"
   ]
  },
  {
   "cell_type": "code",
   "execution_count": 66,
   "metadata": {},
   "outputs": [
    {
     "name": "stdout",
     "output_type": "stream",
     "text": [
      "   TARGET_B  TARGET_D  CONTROL_NUMBER  MONTHS_SINCE_ORIGIN  DONOR_AGE   \n",
      "0         0       NaN               5                  101       87.0  \\\n",
      "1         1      10.0              12                  137       79.0   \n",
      "2         0       NaN              37                  113       75.0   \n",
      "3         0       NaN              38                   92       60.0   \n",
      "4         0       NaN              41                  101       74.0   \n",
      "\n",
      "   IN_HOUSE CLUSTER_CODE  INCOME_GROUP  PUBLISHED_PHONE  MOR_HIT_RATE  ...   \n",
      "0         0            0           2.0                0             0  ...  \\\n",
      "1         0           45           7.0                0             0  ...   \n",
      "2         0           11           5.0                0             0  ...   \n",
      "3         0           04           6.0                1             0  ...   \n",
      "4         0           49           2.0                1             8  ...   \n",
      "\n",
      "   DONOR_GENDER_M  DONOR_GENDER_U  OVERLAY_SOURCE_M  OVERLAY_SOURCE_N   \n",
      "0            True           False             False             False  \\\n",
      "1            True           False             False             False   \n",
      "2           False           False             False             False   \n",
      "3           False           False             False             False   \n",
      "4           False           False             False             False   \n",
      "\n",
      "   OVERLAY_SOURCE_P  RECENCY_STATUS_96NK_E  RECENCY_STATUS_96NK_F   \n",
      "0              True                  False                  False  \\\n",
      "1              True                  False                  False   \n",
      "2              True                  False                  False   \n",
      "3             False                  False                  False   \n",
      "4             False                  False                  False   \n",
      "\n",
      "   RECENCY_STATUS_96NK_L  RECENCY_STATUS_96NK_N  RECENCY_STATUS_96NK_S  \n",
      "0                  False                  False                  False  \n",
      "1                  False                  False                   True  \n",
      "2                  False                  False                   True  \n",
      "3                  False                  False                  False  \n",
      "4                  False                  False                  False  \n",
      "\n",
      "[5 rows x 65 columns]\n"
     ]
    }
   ],
   "source": [
    "\n",
    "expanded_df =pd.get_dummies(df, columns=['URBANICITY','SES','HOME_OWNER', 'DONOR_GENDER', 'OVERLAY_SOURCE', 'RECENCY_STATUS_96NK'], drop_first = True)\n",
    "print(expanded_df.head())"
   ]
  },
  {
   "cell_type": "code",
   "execution_count": 67,
   "metadata": {},
   "outputs": [
    {
     "data": {
      "text/plain": [
       "Index(['TARGET_B', 'TARGET_D', 'CONTROL_NUMBER', 'MONTHS_SINCE_ORIGIN',\n",
       "       'DONOR_AGE', 'IN_HOUSE', 'CLUSTER_CODE', 'INCOME_GROUP',\n",
       "       'PUBLISHED_PHONE', 'MOR_HIT_RATE', 'WEALTH_RATING', 'MEDIAN_HOME_VALUE',\n",
       "       'MEDIAN_HOUSEHOLD_INCOME', 'PCT_OWNER_OCCUPIED', 'PER_CAPITA_INCOME',\n",
       "       'PCT_ATTRIBUTE1', 'PCT_ATTRIBUTE2', 'PCT_ATTRIBUTE3', 'PCT_ATTRIBUTE4',\n",
       "       'PEP_STAR', 'RECENT_STAR_STATUS', 'FREQUENCY_STATUS_97NK',\n",
       "       'RECENT_RESPONSE_PROP', 'RECENT_AVG_GIFT_AMT',\n",
       "       'RECENT_CARD_RESPONSE_PROP', 'RECENT_AVG_CARD_GIFT_AMT',\n",
       "       'RECENT_RESPONSE_COUNT', 'RECENT_CARD_RESPONSE_COUNT',\n",
       "       'MONTHS_SINCE_LAST_PROM_RESP', 'LIFETIME_CARD_PROM', 'LIFETIME_PROM',\n",
       "       'LIFETIME_GIFT_AMOUNT', 'LIFETIME_GIFT_COUNT', 'LIFETIME_AVG_GIFT_AMT',\n",
       "       'LIFETIME_GIFT_RANGE', 'LIFETIME_MAX_GIFT_AMT', 'LIFETIME_MIN_GIFT_AMT',\n",
       "       'LAST_GIFT_AMT', 'CARD_PROM_12', 'NUMBER_PROM_12',\n",
       "       'MONTHS_SINCE_LAST_GIFT', 'MONTHS_SINCE_FIRST_GIFT', 'FILE_AVG_GIFT',\n",
       "       'FILE_CARD_GIFT', 'URBANICITY_C', 'URBANICITY_R', 'URBANICITY_S',\n",
       "       'URBANICITY_T', 'URBANICITY_U', 'SES_2', 'SES_3', 'SES_4', 'SES_?',\n",
       "       'HOME_OWNER_U', 'DONOR_GENDER_F', 'DONOR_GENDER_M', 'DONOR_GENDER_U',\n",
       "       'OVERLAY_SOURCE_M', 'OVERLAY_SOURCE_N', 'OVERLAY_SOURCE_P',\n",
       "       'RECENCY_STATUS_96NK_E', 'RECENCY_STATUS_96NK_F',\n",
       "       'RECENCY_STATUS_96NK_L', 'RECENCY_STATUS_96NK_N',\n",
       "       'RECENCY_STATUS_96NK_S'],\n",
       "      dtype='object')"
      ]
     },
     "execution_count": 67,
     "metadata": {},
     "output_type": "execute_result"
    }
   ],
   "source": [
    "#Checking new column names\n",
    "expanded_df.columns"
   ]
  },
  {
   "attachments": {},
   "cell_type": "markdown",
   "metadata": {},
   "source": [
    "Train Test Split\n",
    "Now its time to split our data into a training set and a testing set. We will use SKLearn to do this."
   ]
  },
  {
   "cell_type": "code",
   "execution_count": 68,
   "metadata": {},
   "outputs": [],
   "source": [
    "from sklearn.model_selection import train_test_split"
   ]
  },
  {
   "cell_type": "code",
   "execution_count": 69,
   "metadata": {},
   "outputs": [],
   "source": [
    "X = expanded_df.drop(['TARGET_B','TARGET_D'],axis=1)\n",
    "y= expanded_df['TARGET_B']"
   ]
  },
  {
   "cell_type": "code",
   "execution_count": 70,
   "metadata": {},
   "outputs": [],
   "source": [
    "X_train, X_test, y_train, y_test = train_test_split(X, y, test_size=0.3)"
   ]
  },
  {
   "attachments": {},
   "cell_type": "markdown",
   "metadata": {},
   "source": [
    "Training the Random Forest model\n",
    "Now its time to train our model!\n",
    "\n",
    "Below we create an instance of the RandomForestClassifier class and fit it to our training data from the previous step."
   ]
  },
  {
   "cell_type": "code",
   "execution_count": 71,
   "metadata": {},
   "outputs": [
    {
     "data": {
      "text/plain": [
       "RandomForestClassifier(max_leaf_nodes=5, min_samples_leaf=20,\n",
       "                       min_samples_split=5, n_estimators=50)"
      ]
     },
     "execution_count": 71,
     "metadata": {},
     "output_type": "execute_result"
    }
   ],
   "source": [
    "from sklearn.ensemble import RandomForestClassifier\n",
    "\n",
    "rf = RandomForestClassifier (n_estimators = 100)\n",
    "\n",
    "rf2 = RandomForestClassifier (n_estimators = 50, max_leaf_nodes= 5,\n",
    "            min_samples_leaf=20, min_samples_split=5)\n",
    "\n",
    "rf.fit(X_train,y_train.values.ravel())\n",
    "\n",
    "rf2.fit(X_train,y_train.values.ravel())"
   ]
  },
  {
   "cell_type": "code",
   "execution_count": 72,
   "metadata": {},
   "outputs": [
    {
     "name": "stdout",
     "output_type": "stream",
     "text": [
      "My first model accuracy is = 74.53816660857441%\n",
      "My second model accuracy is = 74.59044963401882%\n"
     ]
    }
   ],
   "source": [
    "accuracy = rf.score(X_test, y_test)\n",
    "print('My first model accuracy is = {}%'.format(accuracy*100))\n",
    "\n",
    "accuracy = rf2.score(X_test, y_test)\n",
    "print('My second model accuracy is = {}%'.format(accuracy*100))"
   ]
  },
  {
   "cell_type": "code",
   "execution_count": 73,
   "metadata": {
    "scrolled": true
   },
   "outputs": [
    {
     "name": "stdout",
     "output_type": "stream",
     "text": [
      "Feature ranking:\n",
      "1. feature 0 (0.041852)\n",
      "2. feature 9 (0.040221)\n",
      "3. feature 12 (0.038319)\n",
      "4. feature 10 (0.037042)\n",
      "5. feature 11 (0.033028)\n",
      "6. feature 16 (0.032691)\n",
      "7. feature 14 (0.032690)\n",
      "8. feature 15 (0.032039)\n",
      "9. feature 2 (0.030792)\n",
      "10. feature 31 (0.030473)\n",
      "11. feature 40 (0.030159)\n",
      "12. feature 20 (0.029554)\n",
      "13. feature 4 (0.028965)\n",
      "14. feature 29 (0.028920)\n",
      "15. feature 28 (0.027951)\n",
      "16. feature 21 (0.027912)\n",
      "17. feature 39 (0.027481)\n",
      "18. feature 27 (0.022411)\n",
      "19. feature 37 (0.022322)\n",
      "20. feature 38 (0.021930)\n",
      "21. feature 23 (0.021671)\n",
      "22. feature 22 (0.021627)\n",
      "23. feature 32 (0.020560)\n",
      "24. feature 30 (0.019782)\n",
      "25. feature 26 (0.019184)\n",
      "26. feature 35 (0.019090)\n",
      "27. feature 41 (0.018858)\n",
      "28. feature 8 (0.018471)\n",
      "29. feature 7 (0.017999)\n",
      "30. feature 33 (0.016760)\n",
      "31. feature 5 (0.015961)\n",
      "32. feature 24 (0.014404)\n",
      "33. feature 34 (0.013943)\n",
      "34. feature 1 (0.013588)\n",
      "35. feature 25 (0.011593)\n",
      "36. feature 13 (0.011574)\n",
      "37. feature 36 (0.011090)\n",
      "38. feature 19 (0.009477)\n",
      "39. feature 18 (0.006878)\n",
      "40. feature 6 (0.005846)\n",
      "41. feature 53 (0.005542)\n",
      "42. feature 52 (0.005484)\n",
      "43. feature 17 (0.005387)\n",
      "44. feature 51 (0.005303)\n",
      "45. feature 47 (0.005010)\n",
      "46. feature 57 (0.004738)\n",
      "47. feature 44 (0.004380)\n",
      "48. feature 45 (0.004302)\n",
      "49. feature 42 (0.004189)\n",
      "50. feature 56 (0.004160)\n",
      "51. feature 62 (0.003577)\n",
      "52. feature 48 (0.003311)\n",
      "53. feature 43 (0.003213)\n",
      "54. feature 55 (0.003040)\n",
      "55. feature 46 (0.002902)\n",
      "56. feature 54 (0.002723)\n",
      "57. feature 3 (0.002197)\n",
      "58. feature 61 (0.001381)\n",
      "59. feature 50 (0.001046)\n",
      "60. feature 58 (0.000938)\n",
      "61. feature 59 (0.000802)\n",
      "62. feature 49 (0.000731)\n",
      "63. feature 60 (0.000537)\n"
     ]
    }
   ],
   "source": [
    "importances = rf.feature_importances_\n",
    "std = np.std([tree.feature_importances_ for tree in rf.estimators_],\n",
    "             axis=0)\n",
    "indices = np.argsort(importances)[::-1]\n",
    "\n",
    "# Print the feature ranking\n",
    "print(\"Feature ranking:\")\n",
    "\n",
    "for f in range(X.shape[1]):\n",
    "    print(\"%d. feature %d (%f)\" % (f + 1, indices[f], importances[indices[f]]))"
   ]
  },
  {
   "cell_type": "code",
   "execution_count": 74,
   "metadata": {
    "scrolled": true
   },
   "outputs": [
    {
     "data": {
      "image/png": "[encoded data removed]",
      "text/plain": [
       "<Figure size 1500x600 with 1 Axes>"
      ]
     },
     "metadata": {},
     "output_type": "display_data"
    }
   ],
   "source": [
    "# Plot the feature importances of the forest\n",
    "plt.figure(figsize=(15,6))\n",
    "plt.title(\"Feature importances\")\n",
    "plt.bar(range(X.shape[1]), importances[indices],\n",
    "       color=\"r\", yerr=std[indices], align=\"center\")\n",
    "plt.xticks(range(X.shape[1]), indices)\n",
    "plt.xlim([-1, X.shape[1]])\n",
    "plt.show()"
   ]
  },
  {
   "cell_type": "code",
   "execution_count": 75,
   "metadata": {},
   "outputs": [],
   "source": [
    "#Now we proceed to read the prospectie donor file, and use the model created above to get the desired outcome\n",
    "df = pd.read_csv('Prospective Donor_ML with Python.csv')"
   ]
  },
  {
   "cell_type": "code",
   "execution_count": 76,
   "metadata": {},
   "outputs": [
    {
     "name": "stdout",
     "output_type": "stream",
     "text": [
      "<class 'pandas.core.frame.DataFrame'>\n",
      "RangeIndex: 2148 entries, 0 to 2147\n",
      "Data columns (total 48 columns):\n",
      " #   Column                       Non-Null Count  Dtype  \n",
      "---  ------                       --------------  -----  \n",
      " 0   CONTROL_NUMBER               2148 non-null   int64  \n",
      " 1   MONTHS_SINCE_ORIGIN          2148 non-null   int64  \n",
      " 2   DONOR_AGE                    1619 non-null   float64\n",
      " 3   IN_HOUSE                     2148 non-null   int64  \n",
      " 4   URBANICITY                   2148 non-null   object \n",
      " 5   SES                          2148 non-null   object \n",
      " 6   CLUSTER_CODE                 2148 non-null   object \n",
      " 7   HOME_OWNER                   2148 non-null   object \n",
      " 8   DONOR_GENDER                 2148 non-null   object \n",
      " 9   INCOME_GROUP                 1667 non-null   float64\n",
      " 10  PUBLISHED_PHONE              2148 non-null   int64  \n",
      " 11  OVERLAY_SOURCE               2148 non-null   object \n",
      " 12  MOR_HIT_RATE                 2148 non-null   int64  \n",
      " 13  WEALTH_RATING                1142 non-null   float64\n",
      " 14  MEDIAN_HOME_VALUE            2148 non-null   int64  \n",
      " 15  MEDIAN_HOUSEHOLD_INCOME      2148 non-null   int64  \n",
      " 16  PCT_OWNER_OCCUPIED           2148 non-null   int64  \n",
      " 17  PER_CAPITA_INCOME            2148 non-null   int64  \n",
      " 18  PCT_ATTRIBUTE1               2148 non-null   int64  \n",
      " 19  PCT_ATTRIBUTE2               2148 non-null   int64  \n",
      " 20  PCT_ATTRIBUTE3               2148 non-null   int64  \n",
      " 21  PCT_ATTRIBUTE4               2148 non-null   int64  \n",
      " 22  PEP_STAR                     2148 non-null   int64  \n",
      " 23  RECENT_STAR_STATUS           2148 non-null   int64  \n",
      " 24  RECENCY_STATUS_96NK          2148 non-null   object \n",
      " 25  FREQUENCY_STATUS_97NK        2148 non-null   int64  \n",
      " 26  RECENT_RESPONSE_PROP         2148 non-null   float64\n",
      " 27  RECENT_AVG_GIFT_AMT          2148 non-null   float64\n",
      " 28  RECENT_CARD_RESPONSE_PROP    2148 non-null   float64\n",
      " 29  RECENT_AVG_CARD_GIFT_AMT     2148 non-null   float64\n",
      " 30  RECENT_RESPONSE_COUNT        2148 non-null   int64  \n",
      " 31  RECENT_CARD_RESPONSE_COUNT   2148 non-null   int64  \n",
      " 32  MONTHS_SINCE_LAST_PROM_RESP  2122 non-null   float64\n",
      " 33  LIFETIME_CARD_PROM           2148 non-null   int64  \n",
      " 34  LIFETIME_PROM                2148 non-null   int64  \n",
      " 35  LIFETIME_GIFT_AMOUNT         2148 non-null   float64\n",
      " 36  LIFETIME_GIFT_COUNT          2148 non-null   int64  \n",
      " 37  LIFETIME_AVG_GIFT_AMT        2148 non-null   float64\n",
      " 38  LIFETIME_GIFT_RANGE          2148 non-null   float64\n",
      " 39  LIFETIME_MAX_GIFT_AMT        2148 non-null   float64\n",
      " 40  LIFETIME_MIN_GIFT_AMT        2148 non-null   float64\n",
      " 41  LAST_GIFT_AMT                2148 non-null   float64\n",
      " 42  CARD_PROM_12                 2148 non-null   int64  \n",
      " 43  NUMBER_PROM_12               2148 non-null   int64  \n",
      " 44  MONTHS_SINCE_LAST_GIFT       2148 non-null   int64  \n",
      " 45  MONTHS_SINCE_FIRST_GIFT      2148 non-null   int64  \n",
      " 46  FILE_AVG_GIFT                2148 non-null   float64\n",
      " 47  FILE_CARD_GIFT               2148 non-null   int64  \n",
      "dtypes: float64(15), int64(26), object(7)\n",
      "memory usage: 805.6+ KB\n"
     ]
    }
   ],
   "source": [
    "df.info()"
   ]
  },
  {
   "cell_type": "code",
   "execution_count": 77,
   "metadata": {},
   "outputs": [],
   "source": [
    "def impute_age(cols):\n",
    "    Age = cols[0]\n",
    "    \n",
    "    if pd.isnull(Age):\n",
    "        return df['DONOR_AGE'].median()\n",
    "    else:\n",
    "        return Age"
   ]
  },
  {
   "cell_type": "code",
   "execution_count": 78,
   "metadata": {},
   "outputs": [],
   "source": [
    "df['DONOR_AGE'] = df[['DONOR_AGE']].apply(impute_age,axis=1)"
   ]
  },
  {
   "cell_type": "code",
   "execution_count": 79,
   "metadata": {},
   "outputs": [],
   "source": [
    "def impute_ig(cols):\n",
    "    ig = cols[0]\n",
    "    \n",
    "    if pd.isnull(ig):\n",
    "        return df['INCOME_GROUP'].median()\n",
    "    else:\n",
    "        return ig"
   ]
  },
  {
   "cell_type": "code",
   "execution_count": 80,
   "metadata": {},
   "outputs": [],
   "source": [
    "df['INCOME_GROUP'] = df[['INCOME_GROUP']].apply(impute_ig,axis=1)"
   ]
  },
  {
   "cell_type": "code",
   "execution_count": 81,
   "metadata": {},
   "outputs": [
    {
     "data": {
      "text/plain": [
       "<Axes: xlabel='INCOME_GROUP', ylabel='WEALTH_RATING'>"
      ]
     },
     "execution_count": 81,
     "metadata": {},
     "output_type": "execute_result"
    },
    {
     "data": {
      "image/png": "[encoded data removed]",
      "text/plain": [
       "<Figure size 1200x700 with 1 Axes>"
      ]
     },
     "metadata": {},
     "output_type": "display_data"
    }
   ],
   "source": [
    "plt.figure(figsize=(12, 7))\n",
    "ss.boxplot(y='WEALTH_RATING',x='INCOME_GROUP',data=df,palette='winter')"
   ]
  },
  {
   "cell_type": "code",
   "execution_count": 82,
   "metadata": {},
   "outputs": [],
   "source": [
    "def impute_wealthr(cols):\n",
    "    wealthr = cols[0]\n",
    "    incomeg = cols[1]\n",
    "    \n",
    "    if pd.isnull(wealthr):\n",
    "\n",
    "        if incomeg == 1:\n",
    "            return 3\n",
    "\n",
    "        elif incomeg == 2:\n",
    "            return 3\n",
    "        \n",
    "        elif incomeg == 3:\n",
    "            return 5\n",
    "        \n",
    "        elif incomeg == 4:\n",
    "            return 5\n",
    "        \n",
    "        elif incomeg == 5:\n",
    "            return 7\n",
    "        \n",
    "        elif incomeg == 6:\n",
    "            return 7\n",
    "        \n",
    "        else:\n",
    "            return 8\n",
    "\n",
    "    else:\n",
    "        return wealthr"
   ]
  },
  {
   "cell_type": "code",
   "execution_count": 83,
   "metadata": {},
   "outputs": [],
   "source": [
    "df['WEALTH_RATING'] = df[['WEALTH_RATING','INCOME_GROUP']].apply(impute_wealthr,axis=1)"
   ]
  },
  {
   "cell_type": "code",
   "execution_count": 84,
   "metadata": {},
   "outputs": [],
   "source": [
    "df['MONTHS_SINCE_LAST_PROM_RESP'] = df['MONTHS_SINCE_LAST_PROM_RESP'].replace('', np.nan)\n",
    "df = df.dropna(axis=0, subset=['MONTHS_SINCE_LAST_PROM_RESP'])"
   ]
  },
  {
   "cell_type": "code",
   "execution_count": 85,
   "metadata": {},
   "outputs": [],
   "source": [
    "df['CLUSTER_CODE'].replace(' .',0,inplace = True)"
   ]
  },
  {
   "cell_type": "code",
   "execution_count": 86,
   "metadata": {},
   "outputs": [],
   "source": [
    "expanded_df =pd.get_dummies(df, columns=['URBANICITY','SES','HOME_OWNER', 'DONOR_GENDER', 'OVERLAY_SOURCE', 'RECENCY_STATUS_96NK'], drop_first = True)\n"
   ]
  },
  {
   "cell_type": "code",
   "execution_count": 87,
   "metadata": {},
   "outputs": [
    {
     "data": {
      "text/plain": [
       "Index(['CONTROL_NUMBER', 'MONTHS_SINCE_ORIGIN', 'DONOR_AGE', 'IN_HOUSE',\n",
       "       'CLUSTER_CODE', 'INCOME_GROUP', 'PUBLISHED_PHONE', 'MOR_HIT_RATE',\n",
       "       'WEALTH_RATING', 'MEDIAN_HOME_VALUE', 'MEDIAN_HOUSEHOLD_INCOME',\n",
       "       'PCT_OWNER_OCCUPIED', 'PER_CAPITA_INCOME', 'PCT_ATTRIBUTE1',\n",
       "       'PCT_ATTRIBUTE2', 'PCT_ATTRIBUTE3', 'PCT_ATTRIBUTE4', 'PEP_STAR',\n",
       "       'RECENT_STAR_STATUS', 'FREQUENCY_STATUS_97NK', 'RECENT_RESPONSE_PROP',\n",
       "       'RECENT_AVG_GIFT_AMT', 'RECENT_CARD_RESPONSE_PROP',\n",
       "       'RECENT_AVG_CARD_GIFT_AMT', 'RECENT_RESPONSE_COUNT',\n",
       "       'RECENT_CARD_RESPONSE_COUNT', 'MONTHS_SINCE_LAST_PROM_RESP',\n",
       "       'LIFETIME_CARD_PROM', 'LIFETIME_PROM', 'LIFETIME_GIFT_AMOUNT',\n",
       "       'LIFETIME_GIFT_COUNT', 'LIFETIME_AVG_GIFT_AMT', 'LIFETIME_GIFT_RANGE',\n",
       "       'LIFETIME_MAX_GIFT_AMT', 'LIFETIME_MIN_GIFT_AMT', 'LAST_GIFT_AMT',\n",
       "       'CARD_PROM_12', 'NUMBER_PROM_12', 'MONTHS_SINCE_LAST_GIFT',\n",
       "       'MONTHS_SINCE_FIRST_GIFT', 'FILE_AVG_GIFT', 'FILE_CARD_GIFT',\n",
       "       'URBANICITY_C', 'URBANICITY_R', 'URBANICITY_S', 'URBANICITY_T',\n",
       "       'URBANICITY_U', 'SES_2', 'SES_3', 'SES_4', 'SES_?', 'HOME_OWNER_U',\n",
       "       'DONOR_GENDER_M', 'DONOR_GENDER_U', 'OVERLAY_SOURCE_M',\n",
       "       'OVERLAY_SOURCE_N', 'OVERLAY_SOURCE_P', 'RECENCY_STATUS_96NK_E',\n",
       "       'RECENCY_STATUS_96NK_F', 'RECENCY_STATUS_96NK_L',\n",
       "       'RECENCY_STATUS_96NK_N', 'RECENCY_STATUS_96NK_S'],\n",
       "      dtype='object')"
      ]
     },
     "execution_count": 87,
     "metadata": {},
     "output_type": "execute_result"
    }
   ],
   "source": [
    "expanded_df.columns"
   ]
  },
  {
   "cell_type": "code",
   "execution_count": 88,
   "metadata": {},
   "outputs": [],
   "source": [
    "#We will now predict the outcome of the prospective donors\n"
   ]
  },
  {
   "cell_type": "code",
   "execution_count": 93,
   "metadata": {},
   "outputs": [
    {
     "name": "stdout",
     "output_type": "stream",
     "text": [
      "      CONTROL_NUMBER  prediction\n",
      "0                139           0\n",
      "2                282           0\n",
      "3                368           0\n",
      "4                387           0\n",
      "5                458           0\n",
      "...              ...         ...\n",
      "2141          190837           0\n",
      "2143          190842           0\n",
      "2144          191056           0\n",
      "2145          191164           0\n",
      "2146          191484           0\n",
      "\n",
      "[1672 rows x 2 columns]\n"
     ]
    },
    {
     "name": "stderr",
     "output_type": "stream",
     "text": [
      "C:\\Users\\gurve\\AppData\\Local\\Temp\\ipykernel_40580\\3392805405.py:3: SettingWithCopyWarning: \n",
      "A value is trying to be set on a copy of a slice from a DataFrame.\n",
      "Try using .loc[row_indexer,col_indexer] = value instead\n",
      "\n",
      "See the caveats in the documentation: https://pandas.pydata.org/pandas-docs/stable/user_guide/indexing.html#returning-a-view-versus-a-copy\n",
      "  survivors['prediction']= prediction\n"
     ]
    }
   ],
   "source": [
    "prediction = pd.Series(rf.predict(X))\n",
    "survivors = df[['CONTROL_NUMBER']]\n",
    "survivors['prediction']= prediction\n",
    "print(survivors.loc[survivors['prediction'] ==0])"
   ]
  },
  {
   "cell_type": "code",
   "execution_count": 94,
   "metadata": {},
   "outputs": [
    {
     "name": "stdout",
     "output_type": "stream",
     "text": [
      "      CONTROL_NUMBER  prediction\n",
      "0                139           0\n",
      "2                282           0\n",
      "3                368           0\n",
      "4                387           0\n",
      "5                458           0\n",
      "...              ...         ...\n",
      "2141          190837           0\n",
      "2143          190842           0\n",
      "2144          191056           0\n",
      "2145          191164           0\n",
      "2146          191484           0\n",
      "\n",
      "[1672 rows x 2 columns]\n"
     ]
    }
   ],
   "source": [
    "print(survivors.loc[survivors['prediction'] ==0])"
   ]
  },
  {
   "cell_type": "code",
   "execution_count": 95,
   "metadata": {},
   "outputs": [
    {
     "name": "stdout",
     "output_type": "stream",
     "text": [
      "My first model accuracy is = 92.36118372895535%\n"
     ]
    }
   ],
   "source": [
    "accuracy = rf.score(X, y)\n",
    "print('My first model accuracy is = {}%'.format(accuracy*100))"
   ]
  },
  {
   "cell_type": "code",
   "execution_count": 96,
   "metadata": {},
   "outputs": [],
   "source": [
    "survivors.to_csv(\"prediction_results.csv\")"
   ]
  }
 ],
 "metadata": {
  "kernelspec": {
   "display_name": "Python 3",
   "language": "python",
   "name": "python3"
  },
  "language_info": {
   "codemirror_mode": {
    "name": "ipython",
    "version": 3
   },
   "file_extension": ".py",
   "mimetype": "text/x-python",
   "name": "python",
   "nbconvert_exporter": "python",
   "pygments_lexer": "ipython3",
   "version": "3.11.3"
  }
 },
 "nbformat": 4,
 "nbformat_minor": 2
}
